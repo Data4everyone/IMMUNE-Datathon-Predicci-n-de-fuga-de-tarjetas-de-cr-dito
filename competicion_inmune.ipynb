{
 "cells": [
  {
   "cell_type": "code",
   "execution_count": 1,
   "id": "8b9e89d8",
   "metadata": {},
   "outputs": [],
   "source": [
    "import os\n",
    "import tarfile\n",
    "import urllib\n",
    "import zipfile\n",
    "import pandas as pd\n",
    "import numpy as np\n",
    "\n",
    "%matplotlib inline\n",
    "import matplotlib.pyplot as plt\n",
    "\n",
    "from pandas.plotting import scatter_matrix\n",
    "\n",
    "from sklearn.impute import SimpleImputer\n",
    "\n",
    "from sklearn.preprocessing import OneHotEncoder,OrdinalEncoder\n",
    "\n",
    "from sklearn.pipeline import Pipeline\n",
    "from sklearn.preprocessing import StandardScaler\n",
    "\n",
    "from sklearn.compose import ColumnTransformer\n",
    "\n",
    "from sklearn.linear_model import LinearRegression\n",
    "\n",
    "from sklearn.metrics import mean_squared_error\n",
    "\n",
    "from sklearn.tree import DecisionTreeRegressor\n",
    "\n",
    "from sklearn.model_selection import cross_val_score\n",
    "\n",
    "from sklearn.ensemble import RandomForestRegressor,RandomForestClassifier\n",
    "\n",
    "from sklearn.svm import SVR\n",
    "\n",
    "from sklearn.model_selection import GridSearchCV\n",
    "\n",
    "from sklearn.base import BaseEstimator,TransformerMixin"
   ]
  },
  {
   "cell_type": "code",
   "execution_count": 2,
   "id": "5979008a",
   "metadata": {},
   "outputs": [],
   "source": [
    "HOUSE_PATH = \"2211-credit-card-churn-immune/\"\n",
    "\n",
    "def load_housing_data(housing_path=HOUSE_PATH,file_path=None):\n",
    "    csv_path = os.path.join(housing_path,file_path)\n",
    "    return pd.read_csv(csv_path)\n",
    "\n",
    "credit_train = load_housing_data(file_path='train.csv')\n",
    "credit_test = load_housing_data(file_path='test.csv')\n",
    "\n",
    "credit_all = pd.concat([credit_train,credit_test])"
   ]
  },
  {
   "cell_type": "markdown",
   "id": "bdfdf30d",
   "metadata": {},
   "source": [
    "# Exploración de los datos"
   ]
  },
  {
   "cell_type": "code",
   "execution_count": 3,
   "id": "9adeb08b",
   "metadata": {},
   "outputs": [
    {
     "name": "stdout",
     "output_type": "stream",
     "text": [
      "<class 'pandas.core.frame.DataFrame'>\n",
      "Int64Index: 6275 entries, 0 to 1882\n",
      "Data columns (total 17 columns):\n",
      " #   Column                               Non-Null Count  Dtype  \n",
      "---  ------                               --------------  -----  \n",
      " 0   customer_id                          6275 non-null   int64  \n",
      " 1   customer_age                         5651 non-null   float64\n",
      " 2   education_level                      5339 non-null   object \n",
      " 3   marital_status                       5815 non-null   object \n",
      " 4   income_category                      5572 non-null   object \n",
      " 5   number_products_customer             6275 non-null   int64  \n",
      " 6   weeks_tenure                         6275 non-null   int64  \n",
      " 7   contacts_last_12mths                 6275 non-null   int64  \n",
      " 8   credit_limit                         6275 non-null   float64\n",
      " 9   card_class                           6275 non-null   object \n",
      " 10  inactive_months_last_12mths          6275 non-null   int64  \n",
      " 11  total_revolving_balance              6275 non-null   int64  \n",
      " 12  count_transactions                   6275 non-null   int64  \n",
      " 13  transactions_amount                  6275 non-null   int64  \n",
      " 14  change_transaction_amt_last_3mths    6275 non-null   float64\n",
      " 15  change_transaction_count_last_3mths  6275 non-null   float64\n",
      " 16  churn                                4392 non-null   float64\n",
      "dtypes: float64(5), int64(8), object(4)\n",
      "memory usage: 882.4+ KB\n"
     ]
    }
   ],
   "source": [
    "credit_all.info()"
   ]
  },
  {
   "cell_type": "code",
   "execution_count": 4,
   "id": "8ee1c166",
   "metadata": {
    "scrolled": true
   },
   "outputs": [
    {
     "data": {
      "text/html": [
       "<div>\n",
       "<style scoped>\n",
       "    .dataframe tbody tr th:only-of-type {\n",
       "        vertical-align: middle;\n",
       "    }\n",
       "\n",
       "    .dataframe tbody tr th {\n",
       "        vertical-align: top;\n",
       "    }\n",
       "\n",
       "    .dataframe thead th {\n",
       "        text-align: right;\n",
       "    }\n",
       "</style>\n",
       "<table border=\"1\" class=\"dataframe\">\n",
       "  <thead>\n",
       "    <tr style=\"text-align: right;\">\n",
       "      <th></th>\n",
       "      <th>customer_id</th>\n",
       "      <th>customer_age</th>\n",
       "      <th>education_level</th>\n",
       "      <th>marital_status</th>\n",
       "      <th>income_category</th>\n",
       "      <th>number_products_customer</th>\n",
       "      <th>weeks_tenure</th>\n",
       "      <th>contacts_last_12mths</th>\n",
       "      <th>credit_limit</th>\n",
       "      <th>card_class</th>\n",
       "      <th>inactive_months_last_12mths</th>\n",
       "      <th>total_revolving_balance</th>\n",
       "      <th>count_transactions</th>\n",
       "      <th>transactions_amount</th>\n",
       "      <th>change_transaction_amt_last_3mths</th>\n",
       "      <th>change_transaction_count_last_3mths</th>\n",
       "      <th>churn</th>\n",
       "    </tr>\n",
       "  </thead>\n",
       "  <tbody>\n",
       "    <tr>\n",
       "      <th>0</th>\n",
       "      <td>4278</td>\n",
       "      <td>NaN</td>\n",
       "      <td>phd</td>\n",
       "      <td>NaN</td>\n",
       "      <td>30k€-50k€</td>\n",
       "      <td>4</td>\n",
       "      <td>216</td>\n",
       "      <td>1</td>\n",
       "      <td>16541.0</td>\n",
       "      <td>red plus</td>\n",
       "      <td>2</td>\n",
       "      <td>1428</td>\n",
       "      <td>82</td>\n",
       "      <td>4352</td>\n",
       "      <td>0.846</td>\n",
       "      <td>0.907</td>\n",
       "      <td>0.0</td>\n",
       "    </tr>\n",
       "    <tr>\n",
       "      <th>1</th>\n",
       "      <td>7300</td>\n",
       "      <td>45.0</td>\n",
       "      <td>graduate</td>\n",
       "      <td>single</td>\n",
       "      <td>&lt;30k€</td>\n",
       "      <td>5</td>\n",
       "      <td>115</td>\n",
       "      <td>3</td>\n",
       "      <td>1438.3</td>\n",
       "      <td>red</td>\n",
       "      <td>3</td>\n",
       "      <td>576</td>\n",
       "      <td>66</td>\n",
       "      <td>5098</td>\n",
       "      <td>0.774</td>\n",
       "      <td>0.833</td>\n",
       "      <td>0.0</td>\n",
       "    </tr>\n",
       "    <tr>\n",
       "      <th>2</th>\n",
       "      <td>6857</td>\n",
       "      <td>NaN</td>\n",
       "      <td>uneducated</td>\n",
       "      <td>married</td>\n",
       "      <td>30k€-50k€</td>\n",
       "      <td>6</td>\n",
       "      <td>172</td>\n",
       "      <td>2</td>\n",
       "      <td>2293.0</td>\n",
       "      <td>red</td>\n",
       "      <td>1</td>\n",
       "      <td>1460</td>\n",
       "      <td>74</td>\n",
       "      <td>4436</td>\n",
       "      <td>0.658</td>\n",
       "      <td>0.542</td>\n",
       "      <td>0.0</td>\n",
       "    </tr>\n",
       "    <tr>\n",
       "      <th>3</th>\n",
       "      <td>2508</td>\n",
       "      <td>39.0</td>\n",
       "      <td>graduate</td>\n",
       "      <td>married</td>\n",
       "      <td>70k€-110k€</td>\n",
       "      <td>5</td>\n",
       "      <td>124</td>\n",
       "      <td>2</td>\n",
       "      <td>17523.0</td>\n",
       "      <td>red</td>\n",
       "      <td>2</td>\n",
       "      <td>0</td>\n",
       "      <td>54</td>\n",
       "      <td>1974</td>\n",
       "      <td>0.424</td>\n",
       "      <td>0.688</td>\n",
       "      <td>1.0</td>\n",
       "    </tr>\n",
       "    <tr>\n",
       "      <th>4</th>\n",
       "      <td>7859</td>\n",
       "      <td>40.0</td>\n",
       "      <td>graduate</td>\n",
       "      <td>single</td>\n",
       "      <td>&lt;30k€</td>\n",
       "      <td>2</td>\n",
       "      <td>107</td>\n",
       "      <td>2</td>\n",
       "      <td>4391.0</td>\n",
       "      <td>red</td>\n",
       "      <td>2</td>\n",
       "      <td>1933</td>\n",
       "      <td>36</td>\n",
       "      <td>1849</td>\n",
       "      <td>0.579</td>\n",
       "      <td>0.385</td>\n",
       "      <td>1.0</td>\n",
       "    </tr>\n",
       "  </tbody>\n",
       "</table>\n",
       "</div>"
      ],
      "text/plain": [
       "   customer_id  customer_age education_level marital_status income_category  \\\n",
       "0         4278           NaN             phd            NaN       30k€-50k€   \n",
       "1         7300          45.0        graduate         single           <30k€   \n",
       "2         6857           NaN      uneducated        married       30k€-50k€   \n",
       "3         2508          39.0        graduate        married      70k€-110k€   \n",
       "4         7859          40.0        graduate         single           <30k€   \n",
       "\n",
       "   number_products_customer  weeks_tenure  contacts_last_12mths  credit_limit  \\\n",
       "0                         4           216                     1       16541.0   \n",
       "1                         5           115                     3        1438.3   \n",
       "2                         6           172                     2        2293.0   \n",
       "3                         5           124                     2       17523.0   \n",
       "4                         2           107                     2        4391.0   \n",
       "\n",
       "  card_class  inactive_months_last_12mths  total_revolving_balance  \\\n",
       "0   red plus                            2                     1428   \n",
       "1        red                            3                      576   \n",
       "2        red                            1                     1460   \n",
       "3        red                            2                        0   \n",
       "4        red                            2                     1933   \n",
       "\n",
       "   count_transactions  transactions_amount  change_transaction_amt_last_3mths  \\\n",
       "0                  82                 4352                              0.846   \n",
       "1                  66                 5098                              0.774   \n",
       "2                  74                 4436                              0.658   \n",
       "3                  54                 1974                              0.424   \n",
       "4                  36                 1849                              0.579   \n",
       "\n",
       "   change_transaction_count_last_3mths  churn  \n",
       "0                                0.907    0.0  \n",
       "1                                0.833    0.0  \n",
       "2                                0.542    0.0  \n",
       "3                                0.688    1.0  \n",
       "4                                0.385    1.0  "
      ]
     },
     "execution_count": 4,
     "metadata": {},
     "output_type": "execute_result"
    }
   ],
   "source": [
    "credit_all.head()"
   ]
  },
  {
   "cell_type": "code",
   "execution_count": 5,
   "id": "c3e9e96d",
   "metadata": {
    "scrolled": true
   },
   "outputs": [
    {
     "data": {
      "text/html": [
       "<div>\n",
       "<style scoped>\n",
       "    .dataframe tbody tr th:only-of-type {\n",
       "        vertical-align: middle;\n",
       "    }\n",
       "\n",
       "    .dataframe tbody tr th {\n",
       "        vertical-align: top;\n",
       "    }\n",
       "\n",
       "    .dataframe thead th {\n",
       "        text-align: right;\n",
       "    }\n",
       "</style>\n",
       "<table border=\"1\" class=\"dataframe\">\n",
       "  <thead>\n",
       "    <tr style=\"text-align: right;\">\n",
       "      <th></th>\n",
       "      <th>customer_id</th>\n",
       "      <th>customer_age</th>\n",
       "      <th>number_products_customer</th>\n",
       "      <th>weeks_tenure</th>\n",
       "      <th>contacts_last_12mths</th>\n",
       "      <th>credit_limit</th>\n",
       "      <th>inactive_months_last_12mths</th>\n",
       "      <th>total_revolving_balance</th>\n",
       "      <th>count_transactions</th>\n",
       "      <th>transactions_amount</th>\n",
       "      <th>change_transaction_amt_last_3mths</th>\n",
       "      <th>change_transaction_count_last_3mths</th>\n",
       "      <th>churn</th>\n",
       "    </tr>\n",
       "  </thead>\n",
       "  <tbody>\n",
       "    <tr>\n",
       "      <th>count</th>\n",
       "      <td>6275.000000</td>\n",
       "      <td>5651.000000</td>\n",
       "      <td>6275.000000</td>\n",
       "      <td>6275.000000</td>\n",
       "      <td>6275.000000</td>\n",
       "      <td>6275.000000</td>\n",
       "      <td>6275.000000</td>\n",
       "      <td>6275.000000</td>\n",
       "      <td>6275.000000</td>\n",
       "      <td>6275.000000</td>\n",
       "      <td>6275.000000</td>\n",
       "      <td>6275.000000</td>\n",
       "      <td>4392.000000</td>\n",
       "    </tr>\n",
       "    <tr>\n",
       "      <th>mean</th>\n",
       "      <td>5104.035538</td>\n",
       "      <td>45.844806</td>\n",
       "      <td>3.764462</td>\n",
       "      <td>147.376574</td>\n",
       "      <td>2.501833</td>\n",
       "      <td>8604.879602</td>\n",
       "      <td>2.367649</td>\n",
       "      <td>1107.898486</td>\n",
       "      <td>62.367968</td>\n",
       "      <td>4241.140398</td>\n",
       "      <td>0.754040</td>\n",
       "      <td>0.693779</td>\n",
       "      <td>0.260474</td>\n",
       "    </tr>\n",
       "    <tr>\n",
       "      <th>std</th>\n",
       "      <td>2941.419420</td>\n",
       "      <td>8.598342</td>\n",
       "      <td>1.559360</td>\n",
       "      <td>32.119624</td>\n",
       "      <td>1.126430</td>\n",
       "      <td>9090.385735</td>\n",
       "      <td>1.006580</td>\n",
       "      <td>843.641019</td>\n",
       "      <td>23.543614</td>\n",
       "      <td>3328.651610</td>\n",
       "      <td>0.221847</td>\n",
       "      <td>0.245113</td>\n",
       "      <td>0.438943</td>\n",
       "    </tr>\n",
       "    <tr>\n",
       "      <th>min</th>\n",
       "      <td>2.000000</td>\n",
       "      <td>15.000000</td>\n",
       "      <td>1.000000</td>\n",
       "      <td>53.000000</td>\n",
       "      <td>0.000000</td>\n",
       "      <td>1438.300000</td>\n",
       "      <td>0.000000</td>\n",
       "      <td>0.000000</td>\n",
       "      <td>10.000000</td>\n",
       "      <td>510.000000</td>\n",
       "      <td>0.000000</td>\n",
       "      <td>0.000000</td>\n",
       "      <td>0.000000</td>\n",
       "    </tr>\n",
       "    <tr>\n",
       "      <th>25%</th>\n",
       "      <td>2535.000000</td>\n",
       "      <td>40.000000</td>\n",
       "      <td>3.000000</td>\n",
       "      <td>129.000000</td>\n",
       "      <td>2.000000</td>\n",
       "      <td>2532.000000</td>\n",
       "      <td>2.000000</td>\n",
       "      <td>0.000000</td>\n",
       "      <td>43.000000</td>\n",
       "      <td>2083.500000</td>\n",
       "      <td>0.622500</td>\n",
       "      <td>0.556000</td>\n",
       "      <td>0.000000</td>\n",
       "    </tr>\n",
       "    <tr>\n",
       "      <th>50%</th>\n",
       "      <td>5117.000000</td>\n",
       "      <td>46.000000</td>\n",
       "      <td>4.000000</td>\n",
       "      <td>148.000000</td>\n",
       "      <td>3.000000</td>\n",
       "      <td>4534.000000</td>\n",
       "      <td>2.000000</td>\n",
       "      <td>1205.000000</td>\n",
       "      <td>64.000000</td>\n",
       "      <td>3658.000000</td>\n",
       "      <td>0.735000</td>\n",
       "      <td>0.685000</td>\n",
       "      <td>0.000000</td>\n",
       "    </tr>\n",
       "    <tr>\n",
       "      <th>75%</th>\n",
       "      <td>7678.500000</td>\n",
       "      <td>52.000000</td>\n",
       "      <td>5.000000</td>\n",
       "      <td>165.000000</td>\n",
       "      <td>3.000000</td>\n",
       "      <td>11033.500000</td>\n",
       "      <td>3.000000</td>\n",
       "      <td>1766.000000</td>\n",
       "      <td>79.000000</td>\n",
       "      <td>4707.500000</td>\n",
       "      <td>0.863000</td>\n",
       "      <td>0.809000</td>\n",
       "      <td>1.000000</td>\n",
       "    </tr>\n",
       "    <tr>\n",
       "      <th>max</th>\n",
       "      <td>10127.000000</td>\n",
       "      <td>77.000000</td>\n",
       "      <td>6.000000</td>\n",
       "      <td>229.000000</td>\n",
       "      <td>6.000000</td>\n",
       "      <td>34516.000000</td>\n",
       "      <td>6.000000</td>\n",
       "      <td>2517.000000</td>\n",
       "      <td>139.000000</td>\n",
       "      <td>18484.000000</td>\n",
       "      <td>3.397000</td>\n",
       "      <td>3.714000</td>\n",
       "      <td>1.000000</td>\n",
       "    </tr>\n",
       "  </tbody>\n",
       "</table>\n",
       "</div>"
      ],
      "text/plain": [
       "        customer_id  customer_age  number_products_customer  weeks_tenure  \\\n",
       "count   6275.000000   5651.000000               6275.000000   6275.000000   \n",
       "mean    5104.035538     45.844806                  3.764462    147.376574   \n",
       "std     2941.419420      8.598342                  1.559360     32.119624   \n",
       "min        2.000000     15.000000                  1.000000     53.000000   \n",
       "25%     2535.000000     40.000000                  3.000000    129.000000   \n",
       "50%     5117.000000     46.000000                  4.000000    148.000000   \n",
       "75%     7678.500000     52.000000                  5.000000    165.000000   \n",
       "max    10127.000000     77.000000                  6.000000    229.000000   \n",
       "\n",
       "       contacts_last_12mths  credit_limit  inactive_months_last_12mths  \\\n",
       "count           6275.000000   6275.000000                  6275.000000   \n",
       "mean               2.501833   8604.879602                     2.367649   \n",
       "std                1.126430   9090.385735                     1.006580   \n",
       "min                0.000000   1438.300000                     0.000000   \n",
       "25%                2.000000   2532.000000                     2.000000   \n",
       "50%                3.000000   4534.000000                     2.000000   \n",
       "75%                3.000000  11033.500000                     3.000000   \n",
       "max                6.000000  34516.000000                     6.000000   \n",
       "\n",
       "       total_revolving_balance  count_transactions  transactions_amount  \\\n",
       "count              6275.000000         6275.000000          6275.000000   \n",
       "mean               1107.898486           62.367968          4241.140398   \n",
       "std                 843.641019           23.543614          3328.651610   \n",
       "min                   0.000000           10.000000           510.000000   \n",
       "25%                   0.000000           43.000000          2083.500000   \n",
       "50%                1205.000000           64.000000          3658.000000   \n",
       "75%                1766.000000           79.000000          4707.500000   \n",
       "max                2517.000000          139.000000         18484.000000   \n",
       "\n",
       "       change_transaction_amt_last_3mths  change_transaction_count_last_3mths  \\\n",
       "count                        6275.000000                          6275.000000   \n",
       "mean                            0.754040                             0.693779   \n",
       "std                             0.221847                             0.245113   \n",
       "min                             0.000000                             0.000000   \n",
       "25%                             0.622500                             0.556000   \n",
       "50%                             0.735000                             0.685000   \n",
       "75%                             0.863000                             0.809000   \n",
       "max                             3.397000                             3.714000   \n",
       "\n",
       "             churn  \n",
       "count  4392.000000  \n",
       "mean      0.260474  \n",
       "std       0.438943  \n",
       "min       0.000000  \n",
       "25%       0.000000  \n",
       "50%       0.000000  \n",
       "75%       1.000000  \n",
       "max       1.000000  "
      ]
     },
     "execution_count": 5,
     "metadata": {},
     "output_type": "execute_result"
    }
   ],
   "source": [
    "credit_all.describe()"
   ]
  },
  {
   "cell_type": "code",
   "execution_count": 6,
   "id": "1624b422",
   "metadata": {},
   "outputs": [
    {
     "data": {
      "text/plain": [
       "0    3248\n",
       "1    1144\n",
       "Name: churn, dtype: int64"
      ]
     },
     "execution_count": 6,
     "metadata": {},
     "output_type": "execute_result"
    }
   ],
   "source": [
    "credit_train['churn'].value_counts()"
   ]
  },
  {
   "cell_type": "code",
   "execution_count": 7,
   "id": "42763297",
   "metadata": {
    "scrolled": true
   },
   "outputs": [
    {
     "data": {
      "text/plain": [
       "<30k€         1530\n",
       "30k€-50k€      776\n",
       "70k€-110k€     682\n",
       "50k€-70k€      597\n",
       "+110k€         306\n",
       "Name: income_category, dtype: int64"
      ]
     },
     "execution_count": 7,
     "metadata": {},
     "output_type": "execute_result"
    }
   ],
   "source": [
    "credit_train['income_category'].value_counts()"
   ]
  },
  {
   "cell_type": "code",
   "execution_count": 8,
   "id": "d8079967",
   "metadata": {},
   "outputs": [
    {
     "data": {
      "text/plain": [
       "graduate         1353\n",
       "high school       872\n",
       "uneducated        632\n",
       "college           439\n",
       "post-graduate     232\n",
       "phd               207\n",
       "Name: education_level, dtype: int64"
      ]
     },
     "execution_count": 8,
     "metadata": {},
     "output_type": "execute_result"
    }
   ],
   "source": [
    "credit_train['education_level'].value_counts()"
   ]
  },
  {
   "cell_type": "code",
   "execution_count": 9,
   "id": "c945f894",
   "metadata": {},
   "outputs": [
    {
     "data": {
      "text/plain": [
       "married     2023\n",
       "single      1724\n",
       "divorced     327\n",
       "Name: marital_status, dtype: int64"
      ]
     },
     "execution_count": 9,
     "metadata": {},
     "output_type": "execute_result"
    }
   ],
   "source": [
    "credit_train['marital_status'].value_counts()"
   ]
  },
  {
   "cell_type": "code",
   "execution_count": 10,
   "id": "3b786b8c",
   "metadata": {},
   "outputs": [
    {
     "data": {
      "text/plain": [
       "red              4077\n",
       "red plus          254\n",
       "red unlimited      53\n",
       "premium             8\n",
       "Name: card_class, dtype: int64"
      ]
     },
     "execution_count": 10,
     "metadata": {},
     "output_type": "execute_result"
    }
   ],
   "source": [
    "credit_train['card_class'].value_counts()"
   ]
  },
  {
   "cell_type": "markdown",
   "id": "4c36d1cb",
   "metadata": {},
   "source": [
    "# Visualizar y descubrir datos"
   ]
  },
  {
   "cell_type": "code",
   "execution_count": 11,
   "id": "37f1e41e",
   "metadata": {
    "scrolled": true
   },
   "outputs": [
    {
     "data": {
      "text/html": [
       "<div>\n",
       "<style scoped>\n",
       "    .dataframe tbody tr th:only-of-type {\n",
       "        vertical-align: middle;\n",
       "    }\n",
       "\n",
       "    .dataframe tbody tr th {\n",
       "        vertical-align: top;\n",
       "    }\n",
       "\n",
       "    .dataframe thead th {\n",
       "        text-align: right;\n",
       "    }\n",
       "</style>\n",
       "<table border=\"1\" class=\"dataframe\">\n",
       "  <thead>\n",
       "    <tr style=\"text-align: right;\">\n",
       "      <th></th>\n",
       "      <th>customer_id</th>\n",
       "      <th>customer_age</th>\n",
       "      <th>number_products_customer</th>\n",
       "      <th>weeks_tenure</th>\n",
       "      <th>contacts_last_12mths</th>\n",
       "      <th>credit_limit</th>\n",
       "      <th>inactive_months_last_12mths</th>\n",
       "      <th>total_revolving_balance</th>\n",
       "      <th>count_transactions</th>\n",
       "      <th>transactions_amount</th>\n",
       "      <th>change_transaction_amt_last_3mths</th>\n",
       "      <th>change_transaction_count_last_3mths</th>\n",
       "      <th>churn</th>\n",
       "    </tr>\n",
       "  </thead>\n",
       "  <tbody>\n",
       "    <tr>\n",
       "      <th>0</th>\n",
       "      <td>4278</td>\n",
       "      <td>NaN</td>\n",
       "      <td>4</td>\n",
       "      <td>216</td>\n",
       "      <td>1</td>\n",
       "      <td>16541.0</td>\n",
       "      <td>2</td>\n",
       "      <td>1428</td>\n",
       "      <td>82</td>\n",
       "      <td>4352</td>\n",
       "      <td>0.846</td>\n",
       "      <td>0.907</td>\n",
       "      <td>0</td>\n",
       "    </tr>\n",
       "    <tr>\n",
       "      <th>1</th>\n",
       "      <td>7300</td>\n",
       "      <td>45.0</td>\n",
       "      <td>5</td>\n",
       "      <td>115</td>\n",
       "      <td>3</td>\n",
       "      <td>1438.3</td>\n",
       "      <td>3</td>\n",
       "      <td>576</td>\n",
       "      <td>66</td>\n",
       "      <td>5098</td>\n",
       "      <td>0.774</td>\n",
       "      <td>0.833</td>\n",
       "      <td>0</td>\n",
       "    </tr>\n",
       "    <tr>\n",
       "      <th>2</th>\n",
       "      <td>6857</td>\n",
       "      <td>NaN</td>\n",
       "      <td>6</td>\n",
       "      <td>172</td>\n",
       "      <td>2</td>\n",
       "      <td>2293.0</td>\n",
       "      <td>1</td>\n",
       "      <td>1460</td>\n",
       "      <td>74</td>\n",
       "      <td>4436</td>\n",
       "      <td>0.658</td>\n",
       "      <td>0.542</td>\n",
       "      <td>0</td>\n",
       "    </tr>\n",
       "    <tr>\n",
       "      <th>3</th>\n",
       "      <td>2508</td>\n",
       "      <td>39.0</td>\n",
       "      <td>5</td>\n",
       "      <td>124</td>\n",
       "      <td>2</td>\n",
       "      <td>17523.0</td>\n",
       "      <td>2</td>\n",
       "      <td>0</td>\n",
       "      <td>54</td>\n",
       "      <td>1974</td>\n",
       "      <td>0.424</td>\n",
       "      <td>0.688</td>\n",
       "      <td>1</td>\n",
       "    </tr>\n",
       "    <tr>\n",
       "      <th>4</th>\n",
       "      <td>7859</td>\n",
       "      <td>40.0</td>\n",
       "      <td>2</td>\n",
       "      <td>107</td>\n",
       "      <td>2</td>\n",
       "      <td>4391.0</td>\n",
       "      <td>2</td>\n",
       "      <td>1933</td>\n",
       "      <td>36</td>\n",
       "      <td>1849</td>\n",
       "      <td>0.579</td>\n",
       "      <td>0.385</td>\n",
       "      <td>1</td>\n",
       "    </tr>\n",
       "    <tr>\n",
       "      <th>...</th>\n",
       "      <td>...</td>\n",
       "      <td>...</td>\n",
       "      <td>...</td>\n",
       "      <td>...</td>\n",
       "      <td>...</td>\n",
       "      <td>...</td>\n",
       "      <td>...</td>\n",
       "      <td>...</td>\n",
       "      <td>...</td>\n",
       "      <td>...</td>\n",
       "      <td>...</td>\n",
       "      <td>...</td>\n",
       "      <td>...</td>\n",
       "    </tr>\n",
       "    <tr>\n",
       "      <th>4387</th>\n",
       "      <td>8590</td>\n",
       "      <td>27.0</td>\n",
       "      <td>5</td>\n",
       "      <td>147</td>\n",
       "      <td>3</td>\n",
       "      <td>3184.0</td>\n",
       "      <td>2</td>\n",
       "      <td>1421</td>\n",
       "      <td>59</td>\n",
       "      <td>2253</td>\n",
       "      <td>0.712</td>\n",
       "      <td>0.439</td>\n",
       "      <td>0</td>\n",
       "    </tr>\n",
       "    <tr>\n",
       "      <th>4388</th>\n",
       "      <td>8131</td>\n",
       "      <td>50.0</td>\n",
       "      <td>3</td>\n",
       "      <td>175</td>\n",
       "      <td>0</td>\n",
       "      <td>5139.0</td>\n",
       "      <td>3</td>\n",
       "      <td>0</td>\n",
       "      <td>44</td>\n",
       "      <td>1653</td>\n",
       "      <td>0.330</td>\n",
       "      <td>0.692</td>\n",
       "      <td>1</td>\n",
       "    </tr>\n",
       "    <tr>\n",
       "      <th>4389</th>\n",
       "      <td>3445</td>\n",
       "      <td>48.0</td>\n",
       "      <td>3</td>\n",
       "      <td>180</td>\n",
       "      <td>2</td>\n",
       "      <td>2094.0</td>\n",
       "      <td>3</td>\n",
       "      <td>0</td>\n",
       "      <td>46</td>\n",
       "      <td>2690</td>\n",
       "      <td>0.897</td>\n",
       "      <td>0.484</td>\n",
       "      <td>1</td>\n",
       "    </tr>\n",
       "    <tr>\n",
       "      <th>4390</th>\n",
       "      <td>2832</td>\n",
       "      <td>NaN</td>\n",
       "      <td>1</td>\n",
       "      <td>116</td>\n",
       "      <td>3</td>\n",
       "      <td>5821.0</td>\n",
       "      <td>2</td>\n",
       "      <td>894</td>\n",
       "      <td>42</td>\n",
       "      <td>2011</td>\n",
       "      <td>0.461</td>\n",
       "      <td>0.273</td>\n",
       "      <td>1</td>\n",
       "    </tr>\n",
       "    <tr>\n",
       "      <th>4391</th>\n",
       "      <td>529</td>\n",
       "      <td>58.0</td>\n",
       "      <td>5</td>\n",
       "      <td>191</td>\n",
       "      <td>1</td>\n",
       "      <td>5261.0</td>\n",
       "      <td>2</td>\n",
       "      <td>1966</td>\n",
       "      <td>86</td>\n",
       "      <td>4448</td>\n",
       "      <td>0.672</td>\n",
       "      <td>0.792</td>\n",
       "      <td>0</td>\n",
       "    </tr>\n",
       "  </tbody>\n",
       "</table>\n",
       "<p>4392 rows × 13 columns</p>\n",
       "</div>"
      ],
      "text/plain": [
       "      customer_id  customer_age  number_products_customer  weeks_tenure  \\\n",
       "0            4278           NaN                         4           216   \n",
       "1            7300          45.0                         5           115   \n",
       "2            6857           NaN                         6           172   \n",
       "3            2508          39.0                         5           124   \n",
       "4            7859          40.0                         2           107   \n",
       "...           ...           ...                       ...           ...   \n",
       "4387         8590          27.0                         5           147   \n",
       "4388         8131          50.0                         3           175   \n",
       "4389         3445          48.0                         3           180   \n",
       "4390         2832           NaN                         1           116   \n",
       "4391          529          58.0                         5           191   \n",
       "\n",
       "      contacts_last_12mths  credit_limit  inactive_months_last_12mths  \\\n",
       "0                        1       16541.0                            2   \n",
       "1                        3        1438.3                            3   \n",
       "2                        2        2293.0                            1   \n",
       "3                        2       17523.0                            2   \n",
       "4                        2        4391.0                            2   \n",
       "...                    ...           ...                          ...   \n",
       "4387                     3        3184.0                            2   \n",
       "4388                     0        5139.0                            3   \n",
       "4389                     2        2094.0                            3   \n",
       "4390                     3        5821.0                            2   \n",
       "4391                     1        5261.0                            2   \n",
       "\n",
       "      total_revolving_balance  count_transactions  transactions_amount  \\\n",
       "0                        1428                  82                 4352   \n",
       "1                         576                  66                 5098   \n",
       "2                        1460                  74                 4436   \n",
       "3                           0                  54                 1974   \n",
       "4                        1933                  36                 1849   \n",
       "...                       ...                 ...                  ...   \n",
       "4387                     1421                  59                 2253   \n",
       "4388                        0                  44                 1653   \n",
       "4389                        0                  46                 2690   \n",
       "4390                      894                  42                 2011   \n",
       "4391                     1966                  86                 4448   \n",
       "\n",
       "      change_transaction_amt_last_3mths  change_transaction_count_last_3mths  \\\n",
       "0                                 0.846                                0.907   \n",
       "1                                 0.774                                0.833   \n",
       "2                                 0.658                                0.542   \n",
       "3                                 0.424                                0.688   \n",
       "4                                 0.579                                0.385   \n",
       "...                                 ...                                  ...   \n",
       "4387                              0.712                                0.439   \n",
       "4388                              0.330                                0.692   \n",
       "4389                              0.897                                0.484   \n",
       "4390                              0.461                                0.273   \n",
       "4391                              0.672                                0.792   \n",
       "\n",
       "      churn  \n",
       "0         0  \n",
       "1         0  \n",
       "2         0  \n",
       "3         1  \n",
       "4         1  \n",
       "...     ...  \n",
       "4387      0  \n",
       "4388      1  \n",
       "4389      1  \n",
       "4390      1  \n",
       "4391      0  \n",
       "\n",
       "[4392 rows x 13 columns]"
      ]
     },
     "execution_count": 11,
     "metadata": {},
     "output_type": "execute_result"
    }
   ],
   "source": [
    "attributes_num = [name for name in credit_train.columns if credit_train[name].dtype in ['int64', 'float64']]\n",
    "credit_num = credit_train[attributes_num]\n",
    "credit_num"
   ]
  },
  {
   "cell_type": "code",
   "execution_count": 12,
   "id": "04a79d96",
   "metadata": {},
   "outputs": [
    {
     "data": {
      "text/plain": [
       "churn                                  1.000000\n",
       "contacts_last_12mths                   0.247230\n",
       "inactive_months_last_12mths            0.195645\n",
       "customer_age                           0.032870\n",
       "weeks_tenure                           0.018859\n",
       "customer_id                           -0.005258\n",
       "credit_limit                          -0.030620\n",
       "change_transaction_amt_last_3mths     -0.157887\n",
       "number_products_customer              -0.179723\n",
       "transactions_amount                   -0.206259\n",
       "total_revolving_balance               -0.313688\n",
       "change_transaction_count_last_3mths   -0.333706\n",
       "count_transactions                    -0.438859\n",
       "Name: churn, dtype: float64"
      ]
     },
     "execution_count": 12,
     "metadata": {},
     "output_type": "execute_result"
    }
   ],
   "source": [
    "corr_matrix = credit_num.corr()\n",
    "corr_matrix['churn'].sort_values(ascending=False)"
   ]
  },
  {
   "cell_type": "code",
   "execution_count": 13,
   "id": "2e0bb4ab",
   "metadata": {},
   "outputs": [
    {
     "data": {
      "image/png": "[encoded data removed]",
      "text/plain": [
       "<Figure size 2160x1800 with 16 Axes>"
      ]
     },
     "metadata": {
      "needs_background": "light"
     },
     "output_type": "display_data"
    }
   ],
   "source": [
    "credit_num.hist(bins=50,figsize=(30,25))\n",
    "plt.show()"
   ]
  },
  {
   "cell_type": "markdown",
   "id": "d3e1263e",
   "metadata": {},
   "source": [
    "# Preprocesamiento Datos"
   ]
  },
  {
   "cell_type": "code",
   "execution_count": 14,
   "id": "2588395a",
   "metadata": {
    "scrolled": true
   },
   "outputs": [
    {
     "data": {
      "text/plain": [
       "0       4278\n",
       "1       7300\n",
       "2       6857\n",
       "3       2508\n",
       "4       7859\n",
       "        ... \n",
       "4387    8590\n",
       "4388    8131\n",
       "4389    3445\n",
       "4390    2832\n",
       "4391     529\n",
       "Name: customer_id, Length: 4392, dtype: int64"
      ]
     },
     "execution_count": 14,
     "metadata": {},
     "output_type": "execute_result"
    }
   ],
   "source": [
    "credit_target = credit_train.pop('churn')\n",
    "credit_train.pop('customer_id')"
   ]
  },
  {
   "cell_type": "code",
   "execution_count": 15,
   "id": "9622d634",
   "metadata": {},
   "outputs": [
    {
     "data": {
      "text/plain": [
       "0       16541.0\n",
       "1        1438.3\n",
       "2        2293.0\n",
       "3       17523.0\n",
       "4        4391.0\n",
       "         ...   \n",
       "4387     3184.0\n",
       "4388     5139.0\n",
       "4389     2094.0\n",
       "4390     5821.0\n",
       "4391     5261.0\n",
       "Name: credit_limit, Length: 4392, dtype: float64"
      ]
     },
     "execution_count": 15,
     "metadata": {},
     "output_type": "execute_result"
    }
   ],
   "source": [
    "#credit_train.pop('customer_age')\n",
    "#credit_train.pop('weeks_tenure')\n",
    "credit_train.pop('credit_limit')"
   ]
  },
  {
   "cell_type": "code",
   "execution_count": 16,
   "id": "96f84f2c",
   "metadata": {
    "scrolled": true
   },
   "outputs": [
    {
     "name": "stdout",
     "output_type": "stream",
     "text": [
      "<class 'pandas.core.frame.DataFrame'>\n",
      "RangeIndex: 4392 entries, 0 to 4391\n",
      "Data columns (total 14 columns):\n",
      " #   Column                               Non-Null Count  Dtype  \n",
      "---  ------                               --------------  -----  \n",
      " 0   customer_age                         3963 non-null   float64\n",
      " 1   education_level                      3735 non-null   object \n",
      " 2   marital_status                       4074 non-null   object \n",
      " 3   income_category                      3891 non-null   object \n",
      " 4   number_products_customer             4392 non-null   int64  \n",
      " 5   weeks_tenure                         4392 non-null   int64  \n",
      " 6   contacts_last_12mths                 4392 non-null   int64  \n",
      " 7   card_class                           4392 non-null   object \n",
      " 8   inactive_months_last_12mths          4392 non-null   int64  \n",
      " 9   total_revolving_balance              4392 non-null   int64  \n",
      " 10  count_transactions                   4392 non-null   int64  \n",
      " 11  transactions_amount                  4392 non-null   int64  \n",
      " 12  change_transaction_amt_last_3mths    4392 non-null   float64\n",
      " 13  change_transaction_count_last_3mths  4392 non-null   float64\n",
      "dtypes: float64(3), int64(7), object(4)\n",
      "memory usage: 480.5+ KB\n"
     ]
    }
   ],
   "source": [
    "credit_train.info()"
   ]
  },
  {
   "cell_type": "markdown",
   "id": "0097a531",
   "metadata": {},
   "source": [
    "## Datos Numéricos"
   ]
  },
  {
   "cell_type": "code",
   "execution_count": 17,
   "id": "c9d0cec2",
   "metadata": {},
   "outputs": [],
   "source": [
    "attributes_num = [name for name in credit_train.columns if credit_train[name].dtype in ['int64', 'float64']]\n",
    "credit_num = credit_train[attributes_num]"
   ]
  },
  {
   "cell_type": "markdown",
   "id": "7b0e4f5b",
   "metadata": {},
   "source": [
    "## Datos Categóricos "
   ]
  },
  {
   "cell_type": "code",
   "execution_count": 18,
   "id": "22cbff49",
   "metadata": {},
   "outputs": [],
   "source": [
    "attributes_cat = [name for name in credit_train.columns if credit_train[name].dtype == \"object\"]\n",
    "credit_cat = credit_train[attributes_cat]"
   ]
  },
  {
   "cell_type": "markdown",
   "id": "51400464",
   "metadata": {},
   "source": [
    "## Pipelines de transformacion "
   ]
  },
  {
   "cell_type": "code",
   "execution_count": 19,
   "id": "08c2771d",
   "metadata": {
    "scrolled": true
   },
   "outputs": [],
   "source": [
    "num_pipeline = Pipeline([\n",
    "    ('imputer_num',SimpleImputer(strategy=\"median\")),\n",
    "    ('std_scaler', StandardScaler()),\n",
    "])\n",
    "\n",
    "cat_pipeline = Pipeline([\n",
    "    ('imputer_cat',SimpleImputer(strategy='most_frequent')),\n",
    "    ('one',OrdinalEncoder(handle_unknown='error')),\n",
    "])\n",
    "\n",
    "num_attribs = list(credit_num)\n",
    "cat_attribs = list(credit_cat)\n",
    "\n",
    "full_pipeline = ColumnTransformer([\n",
    "    ('num',num_pipeline,num_attribs),\n",
    "    ('cat',cat_pipeline,cat_attribs),\n",
    "])\n",
    "\n",
    "credit_prepared = full_pipeline.fit_transform(credit_train)"
   ]
  },
  {
   "cell_type": "markdown",
   "id": "c9cf7225",
   "metadata": {},
   "source": [
    "# Modelo"
   ]
  },
  {
   "cell_type": "markdown",
   "id": "daffae16",
   "metadata": {},
   "source": [
    "## RandomForest"
   ]
  },
  {
   "cell_type": "code",
   "execution_count": 20,
   "id": "a23a55aa",
   "metadata": {},
   "outputs": [],
   "source": [
    "from sklearn.metrics import confusion_matrix\n",
    "from sklearn import metrics\n",
    "from sklearn.metrics import f1_score\n",
    "from sklearn.model_selection import train_test_split"
   ]
  },
  {
   "cell_type": "code",
   "execution_count": 21,
   "id": "67937aab",
   "metadata": {},
   "outputs": [],
   "source": [
    "X_train, X_val, y_train, y_val = train_test_split(credit_prepared,credit_target, test_size=0.1, random_state=35)"
   ]
  },
  {
   "cell_type": "code",
   "execution_count": 22,
   "id": "26bd27d9",
   "metadata": {},
   "outputs": [
    {
     "data": {
      "text/plain": [
       "RandomForestClassifier()"
      ]
     },
     "execution_count": 22,
     "metadata": {},
     "output_type": "execute_result"
    }
   ],
   "source": [
    "model =RandomForestClassifier()\n",
    "model.fit(X_train,y_train)"
   ]
  },
  {
   "cell_type": "code",
   "execution_count": 23,
   "id": "e92b0ae6",
   "metadata": {},
   "outputs": [
    {
     "data": {
      "text/plain": [
       "0.8907563025210085"
      ]
     },
     "execution_count": 23,
     "metadata": {},
     "output_type": "execute_result"
    }
   ],
   "source": [
    "credit_pred = model.predict(X_val)\n",
    "f1_score(y_val, credit_pred, average='binary')"
   ]
  },
  {
   "cell_type": "markdown",
   "id": "7fe943b0",
   "metadata": {},
   "source": [
    "## Mejorar el modelo"
   ]
  },
  {
   "cell_type": "code",
   "execution_count": 24,
   "id": "5d205440",
   "metadata": {},
   "outputs": [
    {
     "data": {
      "text/plain": [
       "GridSearchCV(cv=2,\n",
       "             estimator=RandomForestClassifier(class_weight={0: 1, 1: 3},\n",
       "                                              max_features=None),\n",
       "             param_grid=[{'max_depth': [5, 10, 15, 20],\n",
       "                          'min_samples_leaf': [2, 4, 6, 8],\n",
       "                          'min_samples_split': [4, 8, 12],\n",
       "                          'n_estimators': [100, 200, 300]}],\n",
       "             return_train_score=True,\n",
       "             scoring=make_scorer(f1_score, average=binary))"
      ]
     },
     "execution_count": 24,
     "metadata": {},
     "output_type": "execute_result"
    }
   ],
   "source": [
    "from sklearn.metrics import f1_score, make_scorer\n",
    "\n",
    "f1 = make_scorer(f1_score , average='binary')\n",
    "\n",
    "param_grid = [\n",
    "    #{'bootstrap': [False], 'n_estimators': [100,200,300],'min_samples_split':[4,8,12],'min_samples_leaf':[2,4,6,8]},\n",
    "    {'n_estimators': [100,200,300],'max_depth': [5,10,15,20],'min_samples_split':[4,8,12],'min_samples_leaf':[2,4,6,8]},\n",
    "]\n",
    "\n",
    "forest_reg = RandomForestClassifier(class_weight={0:1,1:3},max_features= None)\n",
    "#forest_reg = RandomForestClassifier(class_weight='balanced')\n",
    "\n",
    "grid_search_forest = GridSearchCV(forest_reg,param_grid,cv=2,\n",
    "                          scoring=f1,\n",
    "                          return_train_score=True)\n",
    "\n",
    "grid_search_forest.fit(credit_prepared, credit_target)"
   ]
  },
  {
   "cell_type": "code",
   "execution_count": 25,
   "id": "3a1783ae",
   "metadata": {
    "scrolled": true
   },
   "outputs": [
    {
     "data": {
      "text/plain": [
       "{'max_depth': 15,\n",
       " 'min_samples_leaf': 2,\n",
       " 'min_samples_split': 4,\n",
       " 'n_estimators': 300}"
      ]
     },
     "execution_count": 25,
     "metadata": {},
     "output_type": "execute_result"
    }
   ],
   "source": [
    "grid_search_forest.best_params_"
   ]
  },
  {
   "cell_type": "code",
   "execution_count": 26,
   "id": "de946177",
   "metadata": {},
   "outputs": [
    {
     "name": "stdout",
     "output_type": "stream",
     "text": [
      "0.8397489490169538 {'max_depth': 5, 'min_samples_leaf': 2, 'min_samples_split': 4, 'n_estimators': 100}\n",
      "0.839917659770804 {'max_depth': 5, 'min_samples_leaf': 2, 'min_samples_split': 4, 'n_estimators': 200}\n",
      "0.8432469173686521 {'max_depth': 5, 'min_samples_leaf': 2, 'min_samples_split': 4, 'n_estimators': 300}\n",
      "0.8456548522889326 {'max_depth': 5, 'min_samples_leaf': 2, 'min_samples_split': 8, 'n_estimators': 100}\n",
      "0.8395392516122253 {'max_depth': 5, 'min_samples_leaf': 2, 'min_samples_split': 8, 'n_estimators': 200}\n",
      "0.8393479266325745 {'max_depth': 5, 'min_samples_leaf': 2, 'min_samples_split': 8, 'n_estimators': 300}\n",
      "0.8403713814573268 {'max_depth': 5, 'min_samples_leaf': 2, 'min_samples_split': 12, 'n_estimators': 100}\n",
      "0.8392998323898675 {'max_depth': 5, 'min_samples_leaf': 2, 'min_samples_split': 12, 'n_estimators': 200}\n",
      "0.8390894571839816 {'max_depth': 5, 'min_samples_leaf': 2, 'min_samples_split': 12, 'n_estimators': 300}\n",
      "0.8390618530275845 {'max_depth': 5, 'min_samples_leaf': 4, 'min_samples_split': 4, 'n_estimators': 100}\n",
      "0.8407390561036434 {'max_depth': 5, 'min_samples_leaf': 4, 'min_samples_split': 4, 'n_estimators': 200}\n",
      "0.8448415922014623 {'max_depth': 5, 'min_samples_leaf': 4, 'min_samples_split': 4, 'n_estimators': 300}\n",
      "0.8421214538452217 {'max_depth': 5, 'min_samples_leaf': 4, 'min_samples_split': 8, 'n_estimators': 100}\n",
      "0.8386989778165975 {'max_depth': 5, 'min_samples_leaf': 4, 'min_samples_split': 8, 'n_estimators': 200}\n",
      "0.8394676807078405 {'max_depth': 5, 'min_samples_leaf': 4, 'min_samples_split': 8, 'n_estimators': 300}\n",
      "0.8432168968318441 {'max_depth': 5, 'min_samples_leaf': 4, 'min_samples_split': 12, 'n_estimators': 100}\n",
      "0.8380338436744561 {'max_depth': 5, 'min_samples_leaf': 4, 'min_samples_split': 12, 'n_estimators': 200}\n",
      "0.8396799420937515 {'max_depth': 5, 'min_samples_leaf': 4, 'min_samples_split': 12, 'n_estimators': 300}\n",
      "0.8398081228694352 {'max_depth': 5, 'min_samples_leaf': 6, 'min_samples_split': 4, 'n_estimators': 100}\n",
      "0.8429642475291417 {'max_depth': 5, 'min_samples_leaf': 6, 'min_samples_split': 4, 'n_estimators': 200}\n",
      "0.8429002189208168 {'max_depth': 5, 'min_samples_leaf': 6, 'min_samples_split': 4, 'n_estimators': 300}\n",
      "0.8396176183352035 {'max_depth': 5, 'min_samples_leaf': 6, 'min_samples_split': 8, 'n_estimators': 100}\n",
      "0.8424197485498307 {'max_depth': 5, 'min_samples_leaf': 6, 'min_samples_split': 8, 'n_estimators': 200}\n",
      "0.8420019511736427 {'max_depth': 5, 'min_samples_leaf': 6, 'min_samples_split': 8, 'n_estimators': 300}\n",
      "0.8394689888104899 {'max_depth': 5, 'min_samples_leaf': 6, 'min_samples_split': 12, 'n_estimators': 100}\n",
      "0.8426829013049804 {'max_depth': 5, 'min_samples_leaf': 6, 'min_samples_split': 12, 'n_estimators': 200}\n",
      "0.8424431918844612 {'max_depth': 5, 'min_samples_leaf': 6, 'min_samples_split': 12, 'n_estimators': 300}\n",
      "0.8355862127509609 {'max_depth': 5, 'min_samples_leaf': 8, 'min_samples_split': 4, 'n_estimators': 100}\n",
      "0.8386513721519248 {'max_depth': 5, 'min_samples_leaf': 8, 'min_samples_split': 4, 'n_estimators': 200}\n",
      "0.8378798491887424 {'max_depth': 5, 'min_samples_leaf': 8, 'min_samples_split': 4, 'n_estimators': 300}\n",
      "0.836051215882424 {'max_depth': 5, 'min_samples_leaf': 8, 'min_samples_split': 8, 'n_estimators': 100}\n",
      "0.8374577557603451 {'max_depth': 5, 'min_samples_leaf': 8, 'min_samples_split': 8, 'n_estimators': 200}\n",
      "0.8363309352517987 {'max_depth': 5, 'min_samples_leaf': 8, 'min_samples_split': 8, 'n_estimators': 300}\n",
      "0.8391431782110543 {'max_depth': 5, 'min_samples_leaf': 8, 'min_samples_split': 12, 'n_estimators': 100}\n",
      "0.8355883970172578 {'max_depth': 5, 'min_samples_leaf': 8, 'min_samples_split': 12, 'n_estimators': 200}\n",
      "0.8357901726427623 {'max_depth': 5, 'min_samples_leaf': 8, 'min_samples_split': 12, 'n_estimators': 300}\n",
      "0.873260025785489 {'max_depth': 10, 'min_samples_leaf': 2, 'min_samples_split': 4, 'n_estimators': 100}\n",
      "0.8775378600638115 {'max_depth': 10, 'min_samples_leaf': 2, 'min_samples_split': 4, 'n_estimators': 200}\n",
      "0.8763791121240848 {'max_depth': 10, 'min_samples_leaf': 2, 'min_samples_split': 4, 'n_estimators': 300}\n",
      "0.8742986557568673 {'max_depth': 10, 'min_samples_leaf': 2, 'min_samples_split': 8, 'n_estimators': 100}\n",
      "0.8779347373116632 {'max_depth': 10, 'min_samples_leaf': 2, 'min_samples_split': 8, 'n_estimators': 200}\n",
      "0.873573528896979 {'max_depth': 10, 'min_samples_leaf': 2, 'min_samples_split': 8, 'n_estimators': 300}\n",
      "0.8740296118447379 {'max_depth': 10, 'min_samples_leaf': 2, 'min_samples_split': 12, 'n_estimators': 100}\n",
      "0.8722301317854926 {'max_depth': 10, 'min_samples_leaf': 2, 'min_samples_split': 12, 'n_estimators': 200}\n",
      "0.8734060615860841 {'max_depth': 10, 'min_samples_leaf': 2, 'min_samples_split': 12, 'n_estimators': 300}\n",
      "0.8652005306590644 {'max_depth': 10, 'min_samples_leaf': 4, 'min_samples_split': 4, 'n_estimators': 100}\n",
      "0.8714928026708437 {'max_depth': 10, 'min_samples_leaf': 4, 'min_samples_split': 4, 'n_estimators': 200}\n",
      "0.8710563124902864 {'max_depth': 10, 'min_samples_leaf': 4, 'min_samples_split': 4, 'n_estimators': 300}\n",
      "0.8690004581345838 {'max_depth': 10, 'min_samples_leaf': 4, 'min_samples_split': 8, 'n_estimators': 100}\n",
      "0.8697053181561575 {'max_depth': 10, 'min_samples_leaf': 4, 'min_samples_split': 8, 'n_estimators': 200}\n",
      "0.8659232589062149 {'max_depth': 10, 'min_samples_leaf': 4, 'min_samples_split': 8, 'n_estimators': 300}\n",
      "0.8660432231860804 {'max_depth': 10, 'min_samples_leaf': 4, 'min_samples_split': 12, 'n_estimators': 100}\n",
      "0.8682026322732934 {'max_depth': 10, 'min_samples_leaf': 4, 'min_samples_split': 12, 'n_estimators': 200}\n",
      "0.8688696408796077 {'max_depth': 10, 'min_samples_leaf': 4, 'min_samples_split': 12, 'n_estimators': 300}\n",
      "0.8661585599757811 {'max_depth': 10, 'min_samples_leaf': 6, 'min_samples_split': 4, 'n_estimators': 100}\n",
      "0.8665406903502142 {'max_depth': 10, 'min_samples_leaf': 6, 'min_samples_split': 4, 'n_estimators': 200}\n",
      "0.8660153631607738 {'max_depth': 10, 'min_samples_leaf': 6, 'min_samples_split': 4, 'n_estimators': 300}\n",
      "0.8670641562446839 {'max_depth': 10, 'min_samples_leaf': 6, 'min_samples_split': 8, 'n_estimators': 100}\n",
      "0.8663605454099337 {'max_depth': 10, 'min_samples_leaf': 6, 'min_samples_split': 8, 'n_estimators': 200}\n",
      "0.8673446248600224 {'max_depth': 10, 'min_samples_leaf': 6, 'min_samples_split': 8, 'n_estimators': 300}\n",
      "0.8663346754255845 {'max_depth': 10, 'min_samples_leaf': 6, 'min_samples_split': 12, 'n_estimators': 100}\n",
      "0.8672046776289886 {'max_depth': 10, 'min_samples_leaf': 6, 'min_samples_split': 12, 'n_estimators': 200}\n",
      "0.8655628034023126 {'max_depth': 10, 'min_samples_leaf': 6, 'min_samples_split': 12, 'n_estimators': 300}\n",
      "0.8557604153989696 {'max_depth': 10, 'min_samples_leaf': 8, 'min_samples_split': 4, 'n_estimators': 100}\n",
      "0.8578924836401443 {'max_depth': 10, 'min_samples_leaf': 8, 'min_samples_split': 4, 'n_estimators': 200}\n",
      "0.8595650135551072 {'max_depth': 10, 'min_samples_leaf': 8, 'min_samples_split': 4, 'n_estimators': 300}\n",
      "0.8580219940281115 {'max_depth': 10, 'min_samples_leaf': 8, 'min_samples_split': 8, 'n_estimators': 100}\n",
      "0.85701287411013 {'max_depth': 10, 'min_samples_leaf': 8, 'min_samples_split': 8, 'n_estimators': 200}\n",
      "0.8586150762152053 {'max_depth': 10, 'min_samples_leaf': 8, 'min_samples_split': 8, 'n_estimators': 300}\n",
      "0.8590862855806314 {'max_depth': 10, 'min_samples_leaf': 8, 'min_samples_split': 12, 'n_estimators': 100}\n",
      "0.858265911743189 {'max_depth': 10, 'min_samples_leaf': 8, 'min_samples_split': 12, 'n_estimators': 200}\n",
      "0.8582366254808189 {'max_depth': 10, 'min_samples_leaf': 8, 'min_samples_split': 12, 'n_estimators': 300}\n",
      "0.8710435480040277 {'max_depth': 15, 'min_samples_leaf': 2, 'min_samples_split': 4, 'n_estimators': 100}\n",
      "0.8761543449128251 {'max_depth': 15, 'min_samples_leaf': 2, 'min_samples_split': 4, 'n_estimators': 200}\n",
      "0.879935797478542 {'max_depth': 15, 'min_samples_leaf': 2, 'min_samples_split': 4, 'n_estimators': 300}\n",
      "0.8755312313958492 {'max_depth': 15, 'min_samples_leaf': 2, 'min_samples_split': 8, 'n_estimators': 100}\n",
      "0.8769454317841414 {'max_depth': 15, 'min_samples_leaf': 2, 'min_samples_split': 8, 'n_estimators': 200}\n",
      "0.8785914949629992 {'max_depth': 15, 'min_samples_leaf': 2, 'min_samples_split': 8, 'n_estimators': 300}\n",
      "0.873523953137687 {'max_depth': 15, 'min_samples_leaf': 2, 'min_samples_split': 12, 'n_estimators': 100}\n",
      "0.8712647733033332 {'max_depth': 15, 'min_samples_leaf': 2, 'min_samples_split': 12, 'n_estimators': 200}\n",
      "0.8725230298304889 {'max_depth': 15, 'min_samples_leaf': 2, 'min_samples_split': 12, 'n_estimators': 300}\n",
      "0.8713365922760736 {'max_depth': 15, 'min_samples_leaf': 4, 'min_samples_split': 4, 'n_estimators': 100}\n",
      "0.8701068002697196 {'max_depth': 15, 'min_samples_leaf': 4, 'min_samples_split': 4, 'n_estimators': 200}\n",
      "0.8697430414297884 {'max_depth': 15, 'min_samples_leaf': 4, 'min_samples_split': 4, 'n_estimators': 300}\n",
      "0.8741871861785047 {'max_depth': 15, 'min_samples_leaf': 4, 'min_samples_split': 8, 'n_estimators': 100}\n",
      "0.8698958333333333 {'max_depth': 15, 'min_samples_leaf': 4, 'min_samples_split': 8, 'n_estimators': 200}\n",
      "0.8689945625682953 {'max_depth': 15, 'min_samples_leaf': 4, 'min_samples_split': 8, 'n_estimators': 300}\n",
      "0.8702404411305391 {'max_depth': 15, 'min_samples_leaf': 4, 'min_samples_split': 12, 'n_estimators': 100}\n",
      "0.8714503560150331 {'max_depth': 15, 'min_samples_leaf': 4, 'min_samples_split': 12, 'n_estimators': 200}\n",
      "0.868794536985154 {'max_depth': 15, 'min_samples_leaf': 4, 'min_samples_split': 12, 'n_estimators': 300}\n",
      "0.865777870942948 {'max_depth': 15, 'min_samples_leaf': 6, 'min_samples_split': 4, 'n_estimators': 100}\n",
      "0.8681757162514576 {'max_depth': 15, 'min_samples_leaf': 6, 'min_samples_split': 4, 'n_estimators': 200}\n",
      "0.8657987785278045 {'max_depth': 15, 'min_samples_leaf': 6, 'min_samples_split': 4, 'n_estimators': 300}\n",
      "0.8679108271004286 {'max_depth': 15, 'min_samples_leaf': 6, 'min_samples_split': 8, 'n_estimators': 100}\n",
      "0.863492202777917 {'max_depth': 15, 'min_samples_leaf': 6, 'min_samples_split': 8, 'n_estimators': 200}\n",
      "0.8669967239022276 {'max_depth': 15, 'min_samples_leaf': 6, 'min_samples_split': 8, 'n_estimators': 300}\n",
      "0.8675621061805711 {'max_depth': 15, 'min_samples_leaf': 6, 'min_samples_split': 12, 'n_estimators': 100}\n",
      "0.8685747029332258 {'max_depth': 15, 'min_samples_leaf': 6, 'min_samples_split': 12, 'n_estimators': 200}\n",
      "0.8660171581761925 {'max_depth': 15, 'min_samples_leaf': 6, 'min_samples_split': 12, 'n_estimators': 300}\n",
      "0.8573668411017807 {'max_depth': 15, 'min_samples_leaf': 8, 'min_samples_split': 4, 'n_estimators': 100}\n",
      "0.8555432103287492 {'max_depth': 15, 'min_samples_leaf': 8, 'min_samples_split': 4, 'n_estimators': 200}\n",
      "0.8561178050950974 {'max_depth': 15, 'min_samples_leaf': 8, 'min_samples_split': 4, 'n_estimators': 300}\n",
      "0.8583659094958613 {'max_depth': 15, 'min_samples_leaf': 8, 'min_samples_split': 8, 'n_estimators': 100}\n",
      "0.8576967707242522 {'max_depth': 15, 'min_samples_leaf': 8, 'min_samples_split': 8, 'n_estimators': 200}\n",
      "0.8591853898834555 {'max_depth': 15, 'min_samples_leaf': 8, 'min_samples_split': 8, 'n_estimators': 300}\n",
      "0.8566820064613756 {'max_depth': 15, 'min_samples_leaf': 8, 'min_samples_split': 12, 'n_estimators': 100}\n",
      "0.8594165503087907 {'max_depth': 15, 'min_samples_leaf': 8, 'min_samples_split': 12, 'n_estimators': 200}\n",
      "0.8592723787241062 {'max_depth': 15, 'min_samples_leaf': 8, 'min_samples_split': 12, 'n_estimators': 300}\n",
      "0.8743146929824561 {'max_depth': 20, 'min_samples_leaf': 2, 'min_samples_split': 4, 'n_estimators': 100}\n",
      "0.8780808447874138 {'max_depth': 20, 'min_samples_leaf': 2, 'min_samples_split': 4, 'n_estimators': 200}\n",
      "0.8776482220124181 {'max_depth': 20, 'min_samples_leaf': 2, 'min_samples_split': 4, 'n_estimators': 300}\n",
      "0.8763713369305484 {'max_depth': 20, 'min_samples_leaf': 2, 'min_samples_split': 8, 'n_estimators': 100}\n",
      "0.877087030076853 {'max_depth': 20, 'min_samples_leaf': 2, 'min_samples_split': 8, 'n_estimators': 200}\n",
      "0.874793531543052 {'max_depth': 20, 'min_samples_leaf': 2, 'min_samples_split': 8, 'n_estimators': 300}\n",
      "0.8711460113868575 {'max_depth': 20, 'min_samples_leaf': 2, 'min_samples_split': 12, 'n_estimators': 100}\n",
      "0.8727037564941516 {'max_depth': 20, 'min_samples_leaf': 2, 'min_samples_split': 12, 'n_estimators': 200}\n",
      "0.8764119342525512 {'max_depth': 20, 'min_samples_leaf': 2, 'min_samples_split': 12, 'n_estimators': 300}\n",
      "0.8682718875819058 {'max_depth': 20, 'min_samples_leaf': 4, 'min_samples_split': 4, 'n_estimators': 100}\n",
      "0.874264796670613 {'max_depth': 20, 'min_samples_leaf': 4, 'min_samples_split': 4, 'n_estimators': 200}\n",
      "0.8715470252629873 {'max_depth': 20, 'min_samples_leaf': 4, 'min_samples_split': 4, 'n_estimators': 300}\n",
      "0.8698682560146207 {'max_depth': 20, 'min_samples_leaf': 4, 'min_samples_split': 8, 'n_estimators': 100}\n",
      "0.8730604873032402 {'max_depth': 20, 'min_samples_leaf': 4, 'min_samples_split': 8, 'n_estimators': 200}\n",
      "0.8717241298686875 {'max_depth': 20, 'min_samples_leaf': 4, 'min_samples_split': 8, 'n_estimators': 300}\n",
      "0.8687632290853113 {'max_depth': 20, 'min_samples_leaf': 4, 'min_samples_split': 12, 'n_estimators': 100}\n",
      "0.8692402624298653 {'max_depth': 20, 'min_samples_leaf': 4, 'min_samples_split': 12, 'n_estimators': 200}\n",
      "0.8679323506418624 {'max_depth': 20, 'min_samples_leaf': 4, 'min_samples_split': 12, 'n_estimators': 300}\n",
      "0.8648583014085178 {'max_depth': 20, 'min_samples_leaf': 6, 'min_samples_split': 4, 'n_estimators': 100}\n",
      "0.8652045826513912 {'max_depth': 20, 'min_samples_leaf': 6, 'min_samples_split': 4, 'n_estimators': 200}\n",
      "0.8683195626930929 {'max_depth': 20, 'min_samples_leaf': 6, 'min_samples_split': 4, 'n_estimators': 300}\n",
      "0.8658153538941937 {'max_depth': 20, 'min_samples_leaf': 6, 'min_samples_split': 8, 'n_estimators': 100}\n",
      "0.8690576010772992 {'max_depth': 20, 'min_samples_leaf': 6, 'min_samples_split': 8, 'n_estimators': 200}\n",
      "0.8672675531858622 {'max_depth': 20, 'min_samples_leaf': 6, 'min_samples_split': 8, 'n_estimators': 300}\n",
      "0.8683367614665324 {'max_depth': 20, 'min_samples_leaf': 6, 'min_samples_split': 12, 'n_estimators': 100}\n",
      "0.8662196731404066 {'max_depth': 20, 'min_samples_leaf': 6, 'min_samples_split': 12, 'n_estimators': 200}\n",
      "0.864984708736684 {'max_depth': 20, 'min_samples_leaf': 6, 'min_samples_split': 12, 'n_estimators': 300}\n",
      "0.8599292227009618 {'max_depth': 20, 'min_samples_leaf': 8, 'min_samples_split': 4, 'n_estimators': 100}\n",
      "0.8564793962101549 {'max_depth': 20, 'min_samples_leaf': 8, 'min_samples_split': 4, 'n_estimators': 200}\n",
      "0.8579363152032495 {'max_depth': 20, 'min_samples_leaf': 8, 'min_samples_split': 4, 'n_estimators': 300}\n",
      "0.8611567206336127 {'max_depth': 20, 'min_samples_leaf': 8, 'min_samples_split': 8, 'n_estimators': 100}\n",
      "0.8584700772200773 {'max_depth': 20, 'min_samples_leaf': 8, 'min_samples_split': 8, 'n_estimators': 200}\n",
      "0.8559168266465782 {'max_depth': 20, 'min_samples_leaf': 8, 'min_samples_split': 8, 'n_estimators': 300}\n",
      "0.8578494845725015 {'max_depth': 20, 'min_samples_leaf': 8, 'min_samples_split': 12, 'n_estimators': 100}\n",
      "0.8601889946827908 {'max_depth': 20, 'min_samples_leaf': 8, 'min_samples_split': 12, 'n_estimators': 200}\n",
      "0.8604292144115153 {'max_depth': 20, 'min_samples_leaf': 8, 'min_samples_split': 12, 'n_estimators': 300}\n"
     ]
    }
   ],
   "source": [
    "cvres = grid_search_forest.cv_results_\n",
    "for mean_score,params in zip(cvres['mean_test_score'], cvres['params']):\n",
    "    print(mean_score, params)"
   ]
  }
 ],
 "metadata": {
  "kernelspec": {
   "display_name": "Python 3 (ipykernel)",
   "language": "python",
   "name": "python3"
  },
  "language_info": {
   "codemirror_mode": {
    "name": "ipython",
    "version": 3
   },
   "file_extension": ".py",
   "mimetype": "text/x-python",
   "name": "python",
   "nbconvert_exporter": "python",
   "pygments_lexer": "ipython3",
   "version": "3.8.10"
  }
 },
 "nbformat": 4,
 "nbformat_minor": 5
}
